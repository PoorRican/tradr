{
 "cells": [
  {
   "cell_type": "markdown",
   "source": [
    "# ThreeProng Strategy Simulation"
   ],
   "metadata": {
    "collapsed": false
   }
  },
  {
   "cell_type": "code",
   "execution_count": null,
   "outputs": [],
   "source": [
    "from Backtesting import Backtesting\n",
    "from core.markets.SimulatedMarket import SimulatedMarket\n",
    "from core.markets.GeminiMarket import GeminiMarket\n",
    "from strategies.ThreeProngAlt import ThreeProngAlt"
   ],
   "metadata": {
    "collapsed": false
   }
  },
  {
   "cell_type": "code",
   "execution_count": null,
   "outputs": [],
   "source": [
    "from yaml import safe_load\n",
    "from models.data import ROOT\n",
    "\n",
    "with open(f'{ROOT}/gemini_api.yml', 'r') as f:\n",
    "    secrets = safe_load(f)\n",
    "\n",
    "symbol = \"dogeusd\"\n",
    "# symbol = \"ethusd\"\n",
    "# symbol = \"btcusd\"\n",
    "\n",
    "mark = GeminiMarket(secrets['key'], secrets['secret'], freq='1m', symbol=symbol)\n",
    "sim = SimulatedMarket(mark, update=False)"
   ],
   "metadata": {
    "collapsed": false
   }
  },
  {
   "cell_type": "code",
   "execution_count": null,
   "outputs": [],
   "source": [
    "strat = ThreeProngAlt(threshold=1, capital=1000, market=sim, timeout='1h')\n",
    "test = Backtesting(strat)"
   ],
   "metadata": {
    "collapsed": false
   }
  },
  {
   "cell_type": "code",
   "execution_count": null,
   "outputs": [],
   "source": [
    "test.process_timeframes()\n",
    "test.strategy.pnl()"
   ],
   "metadata": {
    "collapsed": false
   }
  },
  {
   "cell_type": "code",
   "execution_count": null,
   "outputs": [],
   "source": [
    "strat.plot(size=1)"
   ],
   "metadata": {
    "collapsed": false
   }
  },
  {
   "cell_type": "code",
   "execution_count": null,
   "outputs": [],
   "source": [
    "strat.orders"
   ],
   "metadata": {
    "collapsed": false
   }
  }
 ],
 "metadata": {
  "kernelspec": {
   "display_name": "Python 3",
   "language": "python",
   "name": "python3"
  },
  "language_info": {
   "codemirror_mode": {
    "name": "ipython",
    "version": 2
   },
   "file_extension": ".py",
   "mimetype": "text/x-python",
   "name": "python",
   "nbconvert_exporter": "python",
   "pygments_lexer": "ipython2",
   "version": "2.7.6"
  }
 },
 "nbformat": 4,
 "nbformat_minor": 0
}
