{
 "cells": [
  {
   "cell_type": "markdown",
   "source": [
    "# ThreeProngAlt Backtesting"
   ],
   "metadata": {
    "collapsed": false
   }
  },
  {
   "cell_type": "code",
   "execution_count": 1,
   "outputs": [
    {
     "name": "stderr",
     "output_type": "stream",
     "text": [
      "/Users/swe/repos/investr/strategies/OscillatingStrategy.py:66: SyntaxWarning: \"is\" with a literal. Did you mean \"==\"?\n",
      "  if trade.side is 'sell':\n"
     ]
    }
   ],
   "source": [
    "from Backtesting import Backtesting\n",
    "from markets.SimulatedMarket import SimulatedMarket\n",
    "from markets.GeminiAPI import GeminiAPI\n",
    "from strategies.ThreeProngAlt import ThreeProngAlt"
   ],
   "metadata": {
    "collapsed": false
   }
  },
  {
   "cell_type": "code",
   "execution_count": 2,
   "outputs": [],
   "source": [
    "from yaml import safe_load\n",
    "\n",
    "with open('../gemini_api.yml', 'r') as f:\n",
    "    secrets = safe_load(f)\n",
    "\n",
    "mark = GeminiAPI(secrets['key'], secrets['secret'], '15m', root='../data')\n",
    "sim = SimulatedMarket(mark)"
   ],
   "metadata": {
    "collapsed": false
   }
  },
  {
   "cell_type": "code",
   "execution_count": 3,
   "outputs": [],
   "source": [
    "sim.update()"
   ],
   "metadata": {
    "collapsed": false
   }
  },
  {
   "cell_type": "markdown",
   "source": [
    "Strategy is not generating any orders with a starting fiat of 100USD. Maybe increasing it would help price movements to pass the threshold to become profitable."
   ],
   "metadata": {
    "collapsed": false
   }
  },
  {
   "cell_type": "code",
   "execution_count": 4,
   "outputs": [
    {
     "name": "stdout",
     "output_type": "stream",
     "text": [
      "Beginning to process data\n",
      "10 completed\n",
      "10 completed\n",
      "10 completed\n",
      "10 completed\n",
      "10 completed\n",
      "10 completed\n",
      "10 completed\n",
      "10 completed\n",
      "10 completed\n",
      "10 completed\n",
      "10 completed\n",
      "10 completed\n",
      "10 completed\n",
      "20 completed\n",
      "20 completed\n",
      "20 completed\n",
      "20 completed\n",
      "20 completed\n",
      "20 completed\n",
      "20 completed\n",
      "20 completed\n",
      "20 completed\n",
      "20 completed\n",
      "20 completed\n",
      "20 completed\n",
      "20 completed\n",
      "20 completed\n",
      "30 completed\n",
      "30 completed\n",
      "30 completed\n",
      "30 completed\n",
      "30 completed\n",
      "30 completed\n",
      "30 completed\n",
      "30 completed\n",
      "30 completed\n",
      "30 completed\n",
      "30 completed\n",
      "30 completed\n",
      "30 completed\n",
      "40 completed\n",
      "40 completed\n",
      "40 completed\n",
      "40 completed\n",
      "40 completed\n",
      "40 completed\n",
      "40 completed\n",
      "40 completed\n",
      "40 completed\n",
      "40 completed\n",
      "40 completed\n",
      "40 completed\n",
      "40 completed\n",
      "40 completed\n",
      "50 completed\n",
      "50 completed\n",
      "50 completed\n",
      "50 completed\n",
      "50 completed\n",
      "50 completed\n",
      "50 completed\n",
      "50 completed\n",
      "50 completed\n",
      "50 completed\n",
      "50 completed\n",
      "50 completed\n",
      "50 completed\n",
      "60 completed\n",
      "60 completed\n",
      "60 completed\n",
      "60 completed\n",
      "60 completed\n",
      "60 completed\n",
      "60 completed\n",
      "60 completed\n",
      "60 completed\n",
      "60 completed\n",
      "60 completed\n",
      "60 completed\n",
      "60 completed\n",
      "60 completed\n",
      "70 completed\n",
      "70 completed\n",
      "70 completed\n",
      "70 completed\n",
      "70 completed\n",
      "70 completed\n",
      "70 completed\n",
      "70 completed\n",
      "70 completed\n",
      "70 completed\n",
      "70 completed\n",
      "70 completed\n",
      "70 completed\n",
      "80 completed\n",
      "80 completed\n",
      "80 completed\n",
      "80 completed\n",
      "80 completed\n",
      "80 completed\n",
      "80 completed\n",
      "80 completed\n",
      "80 completed\n",
      "80 completed\n",
      "80 completed\n",
      "80 completed\n",
      "80 completed\n",
      "80 completed\n",
      "90 completed\n",
      "90 completed\n",
      "90 completed\n",
      "90 completed\n",
      "90 completed\n",
      "90 completed\n",
      "90 completed\n",
      "90 completed\n",
      "90 completed\n",
      "90 completed\n",
      "90 completed\n",
      "90 completed\n",
      "90 completed\n",
      "Finished processing data\n"
     ]
    },
    {
     "data": {
      "text/plain": "-6909.460000000003"
     },
     "execution_count": 4,
     "metadata": {},
     "output_type": "execute_result"
    }
   ],
   "source": [
    "strat = ThreeProngAlt(threshold=.1, starting_fiat=500, market=sim)\n",
    "test = Backtesting(strat)\n",
    "\n",
    "test.process_timeframes()\n",
    "test.strategy.pnl()"
   ],
   "metadata": {
    "collapsed": false
   }
  },
  {
   "cell_type": "code",
   "execution_count": 9,
   "outputs": [
    {
     "name": "stdout",
     "output_type": "stream",
     "text": [
      "0     38\n",
      "1     39\n",
      "2     40\n",
      "3     41\n",
      "4     42\n",
      "5     43\n",
      "6     44\n",
      "7     45\n",
      "8     46\n",
      "9     47\n",
      "10    55\n",
      "11    66\n",
      "dtype: int64\n"
     ]
    },
    {
     "data": {
      "text/plain": "                          amt          rate side    cost  id\n2022-10-18 01:45:00  0.025557  19564.206667  buy  500.00  38\n2022-10-18 02:00:00  0.025595  19534.736667  buy  500.00  39\n2022-10-18 07:15:00  0.025583  19544.326667  buy  500.00  40\n2022-10-18 07:30:00  0.025670  19478.010000  buy  500.00  41\n2022-10-18 07:45:00  0.025717  19442.460000  buy  500.00  42\n2022-10-18 08:00:00  0.025755  19413.456667  buy  500.00  43\n2022-10-18 08:15:00  0.025819  19365.386667  buy  500.00  44\n2022-10-18 08:30:00  0.025854  19339.020000  buy  500.00  45\n2022-10-18 11:30:00  0.025830  19357.046667  buy  500.00  46\n2022-10-18 11:45:00  0.025962  19258.716667  buy  499.99  47\n2022-10-20 10:15:00  0.026108  19151.186667  buy  500.00  55\n2022-10-21 17:00:00  0.026078  19173.433333  buy  500.00  66",
      "text/html": "<div>\n<style scoped>\n    .dataframe tbody tr th:only-of-type {\n        vertical-align: middle;\n    }\n\n    .dataframe tbody tr th {\n        vertical-align: top;\n    }\n\n    .dataframe thead th {\n        text-align: right;\n    }\n</style>\n<table border=\"1\" class=\"dataframe\">\n  <thead>\n    <tr style=\"text-align: right;\">\n      <th></th>\n      <th>amt</th>\n      <th>rate</th>\n      <th>side</th>\n      <th>cost</th>\n      <th>id</th>\n    </tr>\n  </thead>\n  <tbody>\n    <tr>\n      <th>2022-10-18 01:45:00</th>\n      <td>0.025557</td>\n      <td>19564.206667</td>\n      <td>buy</td>\n      <td>500.00</td>\n      <td>38</td>\n    </tr>\n    <tr>\n      <th>2022-10-18 02:00:00</th>\n      <td>0.025595</td>\n      <td>19534.736667</td>\n      <td>buy</td>\n      <td>500.00</td>\n      <td>39</td>\n    </tr>\n    <tr>\n      <th>2022-10-18 07:15:00</th>\n      <td>0.025583</td>\n      <td>19544.326667</td>\n      <td>buy</td>\n      <td>500.00</td>\n      <td>40</td>\n    </tr>\n    <tr>\n      <th>2022-10-18 07:30:00</th>\n      <td>0.025670</td>\n      <td>19478.010000</td>\n      <td>buy</td>\n      <td>500.00</td>\n      <td>41</td>\n    </tr>\n    <tr>\n      <th>2022-10-18 07:45:00</th>\n      <td>0.025717</td>\n      <td>19442.460000</td>\n      <td>buy</td>\n      <td>500.00</td>\n      <td>42</td>\n    </tr>\n    <tr>\n      <th>2022-10-18 08:00:00</th>\n      <td>0.025755</td>\n      <td>19413.456667</td>\n      <td>buy</td>\n      <td>500.00</td>\n      <td>43</td>\n    </tr>\n    <tr>\n      <th>2022-10-18 08:15:00</th>\n      <td>0.025819</td>\n      <td>19365.386667</td>\n      <td>buy</td>\n      <td>500.00</td>\n      <td>44</td>\n    </tr>\n    <tr>\n      <th>2022-10-18 08:30:00</th>\n      <td>0.025854</td>\n      <td>19339.020000</td>\n      <td>buy</td>\n      <td>500.00</td>\n      <td>45</td>\n    </tr>\n    <tr>\n      <th>2022-10-18 11:30:00</th>\n      <td>0.025830</td>\n      <td>19357.046667</td>\n      <td>buy</td>\n      <td>500.00</td>\n      <td>46</td>\n    </tr>\n    <tr>\n      <th>2022-10-18 11:45:00</th>\n      <td>0.025962</td>\n      <td>19258.716667</td>\n      <td>buy</td>\n      <td>499.99</td>\n      <td>47</td>\n    </tr>\n    <tr>\n      <th>2022-10-20 10:15:00</th>\n      <td>0.026108</td>\n      <td>19151.186667</td>\n      <td>buy</td>\n      <td>500.00</td>\n      <td>55</td>\n    </tr>\n    <tr>\n      <th>2022-10-21 17:00:00</th>\n      <td>0.026078</td>\n      <td>19173.433333</td>\n      <td>buy</td>\n      <td>500.00</td>\n      <td>66</td>\n    </tr>\n  </tbody>\n</table>\n</div>"
     },
     "execution_count": 9,
     "metadata": {},
     "output_type": "execute_result"
    }
   ],
   "source": [
    "print(strat.unpaired_buys)\n",
    "strat.get_unpaired_orders()"
   ],
   "metadata": {
    "collapsed": false
   }
  },
  {
   "cell_type": "code",
   "execution_count": 5,
   "outputs": [],
   "source": [],
   "metadata": {
    "collapsed": false
   }
  },
  {
   "cell_type": "markdown",
   "source": [
    "For some reason, strategy stops after 10/5. This is because indicators failed to detect a price drop...\n",
    "There should either be a timeout (where oscillation is reset after a certain timeperiod) *OR* another indicator should be added."
   ],
   "metadata": {
    "collapsed": false
   }
  },
  {
   "cell_type": "code",
   "execution_count": 6,
   "outputs": [],
   "source": [
    "index = strat.unpaired_buys[strat.unpaired_buys == 1].index\n",
    "strat.unpaired_buys.drop(labels=index, inplace=True)"
   ],
   "metadata": {
    "collapsed": false
   }
  },
  {
   "cell_type": "code",
   "execution_count": 7,
   "outputs": [
    {
     "data": {
      "text/plain": "0     38\n1     39\n2     40\n3     41\n4     42\n5     43\n6     44\n7     45\n8     46\n9     47\n10    55\n11    66\ndtype: int64"
     },
     "execution_count": 7,
     "metadata": {},
     "output_type": "execute_result"
    }
   ],
   "source": [
    "strat.unpaired_buys"
   ],
   "metadata": {
    "collapsed": false
   }
  },
  {
   "cell_type": "code",
   "execution_count": 7,
   "outputs": [],
   "source": [],
   "metadata": {
    "collapsed": false
   }
  }
 ],
 "metadata": {
  "kernelspec": {
   "display_name": "Python 3",
   "language": "python",
   "name": "python3"
  },
  "language_info": {
   "codemirror_mode": {
    "name": "ipython",
    "version": 2
   },
   "file_extension": ".py",
   "mimetype": "text/x-python",
   "name": "python",
   "nbconvert_exporter": "python",
   "pygments_lexer": "ipython2",
   "version": "2.7.6"
  }
 },
 "nbformat": 4,
 "nbformat_minor": 0
}
