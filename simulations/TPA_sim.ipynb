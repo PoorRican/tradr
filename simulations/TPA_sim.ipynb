{
 "cells": [
  {
   "cell_type": "markdown",
   "source": [
    "# ThreeProngAlt Backtesting"
   ],
   "metadata": {
    "collapsed": false
   }
  },
  {
   "cell_type": "code",
   "execution_count": null,
   "metadata": {
    "collapsed": true
   },
   "outputs": [],
   "source": [
    "from Backtesting import Backtesting\n",
    "from markets.SimulatedMarket import SimulatedMarket\n",
    "from markets.GeminiAPI import GeminiAPI\n",
    "from strategies.ThreeProngAlt import ThreeProngAlt"
   ]
  },
  {
   "cell_type": "code",
   "execution_count": null,
   "outputs": [],
   "source": [
    "from yaml import safe_load\n",
    "\n",
    "with open('../gemini_api.yml', 'r') as f:\n",
    "    secrets = safe_load(f)\n",
    "\n",
    "mark = GeminiAPI(secrets['key'], secrets['secret'], '15m', root='../data')\n",
    "sim = SimulatedMarket(mark)"
   ],
   "metadata": {
    "collapsed": false
   }
  },
  {
   "cell_type": "code",
   "execution_count": null,
   "outputs": [],
   "source": [
    "sim.update()"
   ],
   "metadata": {
    "collapsed": false
   }
  },
  {
   "cell_type": "markdown",
   "source": [
    "Strategy is not generating any orders with a starting fiat of 100USD. Maybe increasing it would help price movements to pass the threshold to become profitable."
   ],
   "metadata": {
    "collapsed": false
   }
  },
  {
   "cell_type": "code",
   "execution_count": null,
   "outputs": [],
   "source": [
    "strat = ThreeProngAlt(threshold=.1, starting_fiat=500, market=sim)\n",
    "test = Backtesting(strat)\n",
    "\n",
    "test.process_timeframes()\n",
    "test.strategy.pnl()"
   ],
   "metadata": {
    "collapsed": false
   }
  },
  {
   "cell_type": "code",
   "execution_count": null,
   "outputs": [],
   "source": [
    "test.strategy.orders"
   ],
   "metadata": {
    "collapsed": false
   }
  },
  {
   "cell_type": "markdown",
   "source": [
    "For some reason, strategy stops after 10/5. This is because indicators failed to detect a price drop...\n",
    "There should either be a timeout (where oscillation is reset after a certain timeperiod) *OR* another indicator should be added."
   ],
   "metadata": {
    "collapsed": false
   }
  },
  {
   "cell_type": "code",
   "execution_count": null,
   "outputs": [],
   "source": [],
   "metadata": {
    "collapsed": false
   }
  }
 ],
 "metadata": {
  "kernelspec": {
   "display_name": "Python 3",
   "language": "python",
   "name": "python3"
  },
  "language_info": {
   "codemirror_mode": {
    "name": "ipython",
    "version": 2
   },
   "file_extension": ".py",
   "mimetype": "text/x-python",
   "name": "python",
   "nbconvert_exporter": "python",
   "pygments_lexer": "ipython2",
   "version": "2.7.6"
  }
 },
 "nbformat": 4,
 "nbformat_minor": 0
}
