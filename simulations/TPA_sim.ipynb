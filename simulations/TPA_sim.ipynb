{
 "cells": [
  {
   "cell_type": "markdown",
   "source": [
    "# ThreeProngAlt Backtesting"
   ],
   "metadata": {
    "collapsed": false
   }
  },
  {
   "cell_type": "code",
   "execution_count": 1,
   "outputs": [],
   "source": [
    "from Backtesting import Backtesting\n",
    "from core.markets import SimulatedMarket\n",
    "from core.markets import GeminiMarket\n",
    "from strategies.ThreeProngAlt import ThreeProngAlt"
   ],
   "metadata": {
    "collapsed": false
   }
  },
  {
   "cell_type": "code",
   "execution_count": 2,
   "outputs": [],
   "source": [
    "from yaml import safe_load\n",
    "\n",
    "with open('../gemini_api.yml', 'r') as f:\n",
    "    secrets = safe_load(f)\n",
    "\n",
    "mark = GeminiMarket(secrets['key'], secrets['secret'], '15m', root='../data')\n",
    "sim = SimulatedMarket(mark)"
   ],
   "metadata": {
    "collapsed": false
   }
  },
  {
   "cell_type": "code",
   "execution_count": 3,
   "outputs": [],
   "source": [
    "sim.update()"
   ],
   "metadata": {
    "collapsed": false
   }
  },
  {
   "cell_type": "markdown",
   "source": [
    "Strategy is not generating any orders with a starting fiat of 100USD. Maybe increasing it would help price movements to pass the threshold to become profitable."
   ],
   "metadata": {
    "collapsed": false
   }
  },
  {
   "cell_type": "code",
   "execution_count": 4,
   "outputs": [
    {
     "name": "stdout",
     "output_type": "stream",
     "text": [
      "Beginning to process data\n",
      "10 completed\n",
      "10 completed\n",
      "10 completed\n",
      "10 completed\n",
      "10 completed\n",
      "10 completed\n",
      "10 completed\n",
      "10 completed\n",
      "10 completed\n",
      "10 completed\n",
      "10 completed\n",
      "10 completed\n",
      "10 completed\n",
      "20 completed\n",
      "20 completed\n",
      "20 completed\n",
      "20 completed\n",
      "20 completed\n",
      "20 completed\n",
      "20 completed\n",
      "20 completed\n",
      "20 completed\n",
      "20 completed\n",
      "20 completed\n",
      "20 completed\n",
      "20 completed\n",
      "20 completed\n",
      "30 completed\n",
      "30 completed\n",
      "30 completed\n",
      "30 completed\n",
      "30 completed\n",
      "30 completed\n",
      "30 completed\n",
      "30 completed\n",
      "30 completed\n",
      "30 completed\n",
      "30 completed\n",
      "30 completed\n",
      "30 completed\n",
      "40 completed\n",
      "40 completed\n",
      "40 completed\n",
      "40 completed\n",
      "40 completed\n",
      "40 completed\n",
      "40 completed\n",
      "40 completed\n",
      "40 completed\n",
      "40 completed\n",
      "40 completed\n",
      "40 completed\n",
      "40 completed\n",
      "40 completed\n",
      "50 completed\n",
      "50 completed\n",
      "50 completed\n",
      "50 completed\n",
      "50 completed\n",
      "50 completed\n",
      "50 completed\n",
      "50 completed\n",
      "50 completed\n",
      "50 completed\n",
      "50 completed\n",
      "50 completed\n",
      "50 completed\n",
      "60 completed\n",
      "60 completed\n",
      "60 completed\n",
      "60 completed\n",
      "60 completed\n",
      "60 completed\n",
      "60 completed\n",
      "60 completed\n",
      "60 completed\n",
      "60 completed\n",
      "60 completed\n",
      "60 completed\n",
      "60 completed\n",
      "60 completed\n",
      "70 completed\n",
      "70 completed\n",
      "70 completed\n",
      "70 completed\n",
      "70 completed\n",
      "70 completed\n",
      "70 completed\n",
      "70 completed\n",
      "70 completed\n",
      "70 completed\n",
      "70 completed\n",
      "70 completed\n",
      "70 completed\n",
      "80 completed\n",
      "80 completed\n",
      "80 completed\n",
      "80 completed\n",
      "80 completed\n",
      "80 completed\n",
      "80 completed\n",
      "80 completed\n",
      "80 completed\n",
      "80 completed\n",
      "80 completed\n",
      "80 completed\n",
      "80 completed\n",
      "80 completed\n",
      "90 completed\n",
      "90 completed\n",
      "90 completed\n",
      "90 completed\n",
      "90 completed\n",
      "90 completed\n",
      "90 completed\n",
      "90 completed\n",
      "90 completed\n",
      "90 completed\n",
      "90 completed\n",
      "90 completed\n",
      "90 completed\n",
      "Finished processing data\n"
     ]
    },
    {
     "data": {
      "text/plain": "-988.9899999999998"
     },
     "execution_count": 4,
     "metadata": {},
     "output_type": "execute_result"
    }
   ],
   "source": [
    "strat = ThreeProngAlt(threshold=.1, starting=500, market=sim)\n",
    "test = Backtesting(strat)\n",
    "\n",
    "test.process_timeframes()\n",
    "test.strategy.pnl()"
   ],
   "metadata": {
    "collapsed": false
   }
  },
  {
   "cell_type": "code",
   "execution_count": 8,
   "outputs": [
    {
     "name": "stdout",
     "output_type": "stream",
     "text": [
      "Series([], Name: unpaired buy id's, dtype: int32)\n"
     ]
    },
    {
     "data": {
      "text/plain": "                          amt          rate side    cost  id\n2022-10-10 17:00:00  0.026204  19081.163333    1  499.99   0\n2022-10-11 23:00:00  0.026204  19109.020000   -1  500.72   1\n2022-10-12 07:30:00  0.026174  19103.263333    1  500.00   2\n2022-10-12 08:45:00  0.026174  19122.930000   -1  500.51   3\n2022-10-12 17:00:00  0.026101  19156.230000    1  500.00   4\n2022-10-13 11:30:00  0.026101  19183.226667   -1  500.70   5\n2022-10-13 17:00:00  0.025801  19379.243333    1  500.00   6\n2022-10-14 05:30:00  0.025801  19653.636667   -1  507.07   7\n2022-10-14 07:30:00  0.025691  19461.713333    1  500.00   8\n2022-10-17 04:15:00  0.025691  19487.053333   -1  500.65   9\n2022-10-17 19:15:00  0.025604  19528.326667    1  500.00  10\n2022-10-17 21:15:00  0.025604  19581.090000   -1  501.35  11\n2022-10-18 01:45:00  0.025557  19564.206667    1  500.00  12",
      "text/html": "<div>\n<style scoped>\n    .dataframe tbody tr th:only-of-type {\n        vertical-align: middle;\n    }\n\n    .dataframe tbody tr th {\n        vertical-align: top;\n    }\n\n    .dataframe thead th {\n        text-align: right;\n    }\n</style>\n<table border=\"1\" class=\"dataframe\">\n  <thead>\n    <tr style=\"text-align: right;\">\n      <th></th>\n      <th>amt</th>\n      <th>rate</th>\n      <th>side</th>\n      <th>cost</th>\n      <th>id</th>\n    </tr>\n  </thead>\n  <tbody>\n    <tr>\n      <th>2022-10-10 17:00:00</th>\n      <td>0.026204</td>\n      <td>19081.163333</td>\n      <td>1</td>\n      <td>499.99</td>\n      <td>0</td>\n    </tr>\n    <tr>\n      <th>2022-10-11 23:00:00</th>\n      <td>0.026204</td>\n      <td>19109.020000</td>\n      <td>-1</td>\n      <td>500.72</td>\n      <td>1</td>\n    </tr>\n    <tr>\n      <th>2022-10-12 07:30:00</th>\n      <td>0.026174</td>\n      <td>19103.263333</td>\n      <td>1</td>\n      <td>500.00</td>\n      <td>2</td>\n    </tr>\n    <tr>\n      <th>2022-10-12 08:45:00</th>\n      <td>0.026174</td>\n      <td>19122.930000</td>\n      <td>-1</td>\n      <td>500.51</td>\n      <td>3</td>\n    </tr>\n    <tr>\n      <th>2022-10-12 17:00:00</th>\n      <td>0.026101</td>\n      <td>19156.230000</td>\n      <td>1</td>\n      <td>500.00</td>\n      <td>4</td>\n    </tr>\n    <tr>\n      <th>2022-10-13 11:30:00</th>\n      <td>0.026101</td>\n      <td>19183.226667</td>\n      <td>-1</td>\n      <td>500.70</td>\n      <td>5</td>\n    </tr>\n    <tr>\n      <th>2022-10-13 17:00:00</th>\n      <td>0.025801</td>\n      <td>19379.243333</td>\n      <td>1</td>\n      <td>500.00</td>\n      <td>6</td>\n    </tr>\n    <tr>\n      <th>2022-10-14 05:30:00</th>\n      <td>0.025801</td>\n      <td>19653.636667</td>\n      <td>-1</td>\n      <td>507.07</td>\n      <td>7</td>\n    </tr>\n    <tr>\n      <th>2022-10-14 07:30:00</th>\n      <td>0.025691</td>\n      <td>19461.713333</td>\n      <td>1</td>\n      <td>500.00</td>\n      <td>8</td>\n    </tr>\n    <tr>\n      <th>2022-10-17 04:15:00</th>\n      <td>0.025691</td>\n      <td>19487.053333</td>\n      <td>-1</td>\n      <td>500.65</td>\n      <td>9</td>\n    </tr>\n    <tr>\n      <th>2022-10-17 19:15:00</th>\n      <td>0.025604</td>\n      <td>19528.326667</td>\n      <td>1</td>\n      <td>500.00</td>\n      <td>10</td>\n    </tr>\n    <tr>\n      <th>2022-10-17 21:15:00</th>\n      <td>0.025604</td>\n      <td>19581.090000</td>\n      <td>-1</td>\n      <td>501.35</td>\n      <td>11</td>\n    </tr>\n    <tr>\n      <th>2022-10-18 01:45:00</th>\n      <td>0.025557</td>\n      <td>19564.206667</td>\n      <td>1</td>\n      <td>500.00</td>\n      <td>12</td>\n    </tr>\n  </tbody>\n</table>\n</div>"
     },
     "execution_count": 8,
     "metadata": {},
     "output_type": "execute_result"
    }
   ],
   "source": [
    "print(strat.unpaired_buys)\n",
    "strat.orders"
   ],
   "metadata": {
    "collapsed": false
   }
  },
  {
   "cell_type": "markdown",
   "source": [
    "For some reason, strategy always stops after a price drop...\n",
    "There should either be a timeout (where oscillation is reset after a certain timeperiod) *OR* another indicator should be added."
   ],
   "metadata": {
    "collapsed": false
   }
  },
  {
   "cell_type": "code",
   "execution_count": 6,
   "outputs": [],
   "source": [
    "index = strat.unpaired_buys[strat.unpaired_buys == 1].index\n",
    "strat.unpaired_buys.drop(labels=index, inplace=True)"
   ],
   "metadata": {
    "collapsed": false
   }
  },
  {
   "cell_type": "code",
   "execution_count": 7,
   "outputs": [
    {
     "data": {
      "text/plain": "Series([], Name: unpaired buy id's, dtype: int32)"
     },
     "execution_count": 7,
     "metadata": {},
     "output_type": "execute_result"
    }
   ],
   "source": [
    "strat.unpaired_buys"
   ],
   "metadata": {
    "collapsed": false
   }
  },
  {
   "cell_type": "code",
   "execution_count": 7,
   "outputs": [],
   "source": [],
   "metadata": {
    "collapsed": false
   }
  }
 ],
 "metadata": {
  "kernelspec": {
   "display_name": "Python 3",
   "language": "python",
   "name": "python3"
  },
  "language_info": {
   "codemirror_mode": {
    "name": "ipython",
    "version": 2
   },
   "file_extension": ".py",
   "mimetype": "text/x-python",
   "name": "python",
   "nbconvert_exporter": "python",
   "pygments_lexer": "ipython2",
   "version": "2.7.6"
  }
 },
 "nbformat": 4,
 "nbformat_minor": 0
}
