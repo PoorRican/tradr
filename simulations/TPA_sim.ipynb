{
 "cells": [
  {
   "cell_type": "markdown",
   "source": [
    "# ThreeProngAlt Backtesting"
   ],
   "metadata": {
    "collapsed": false
   }
  },
  {
   "cell_type": "code",
   "execution_count": 1,
   "outputs": [],
   "source": [
    "from Backtesting import Backtesting\n",
    "from markets.SimulatedMarket import SimulatedMarket\n",
    "from markets.GeminiAPI import GeminiAPI\n",
    "from strategies.ThreeProngAlt import ThreeProngAlt"
   ],
   "metadata": {
    "collapsed": false
   }
  },
  {
   "cell_type": "code",
   "execution_count": 2,
   "outputs": [],
   "source": [
    "from yaml import safe_load\n",
    "\n",
    "with open('../gemini_api.yml', 'r') as f:\n",
    "    secrets = safe_load(f)\n",
    "\n",
    "mark = GeminiAPI(secrets['key'], secrets['secret'], '15m', root='../data')\n",
    "sim = SimulatedMarket(mark)"
   ],
   "metadata": {
    "collapsed": false
   }
  },
  {
   "cell_type": "code",
   "execution_count": 3,
   "outputs": [],
   "source": [
    "sim.update()"
   ],
   "metadata": {
    "collapsed": false
   }
  },
  {
   "cell_type": "markdown",
   "source": [
    "Strategy is not generating any orders with a starting fiat of 100USD. Maybe increasing it would help price movements to pass the threshold to become profitable."
   ],
   "metadata": {
    "collapsed": false
   }
  },
  {
   "cell_type": "code",
   "execution_count": 4,
   "outputs": [
    {
     "name": "stdout",
     "output_type": "stream",
     "text": [
      "Beginning to process data\n",
      "10 completed\n",
      "10 completed\n",
      "10 completed\n",
      "10 completed\n",
      "10 completed\n",
      "10 completed\n",
      "10 completed\n",
      "10 completed\n",
      "10 completed\n",
      "10 completed\n",
      "10 completed\n",
      "10 completed\n",
      "10 completed\n",
      "20 completed\n",
      "20 completed\n",
      "20 completed\n",
      "20 completed\n",
      "20 completed\n",
      "20 completed\n",
      "20 completed\n",
      "20 completed\n",
      "20 completed\n",
      "20 completed\n",
      "20 completed\n",
      "20 completed\n",
      "20 completed\n",
      "20 completed\n",
      "30 completed\n",
      "30 completed\n",
      "30 completed\n",
      "30 completed\n",
      "30 completed\n",
      "30 completed\n",
      "30 completed\n",
      "30 completed\n",
      "30 completed\n",
      "30 completed\n",
      "30 completed\n",
      "30 completed\n",
      "30 completed\n",
      "40 completed\n",
      "40 completed\n",
      "40 completed\n",
      "40 completed\n",
      "40 completed\n",
      "40 completed\n",
      "40 completed\n",
      "40 completed\n",
      "40 completed\n",
      "40 completed\n",
      "40 completed\n",
      "40 completed\n",
      "40 completed\n",
      "40 completed\n",
      "50 completed\n",
      "50 completed\n",
      "50 completed\n",
      "50 completed\n",
      "50 completed\n",
      "50 completed\n",
      "50 completed\n",
      "50 completed\n",
      "50 completed\n",
      "50 completed\n",
      "50 completed\n",
      "50 completed\n",
      "50 completed\n",
      "60 completed\n",
      "60 completed\n",
      "60 completed\n",
      "60 completed\n",
      "60 completed\n",
      "60 completed\n",
      "60 completed\n",
      "60 completed\n",
      "60 completed\n",
      "60 completed\n",
      "60 completed\n",
      "60 completed\n",
      "60 completed\n",
      "60 completed\n",
      "70 completed\n",
      "70 completed\n",
      "70 completed\n",
      "70 completed\n",
      "70 completed\n",
      "70 completed\n",
      "70 completed\n",
      "70 completed\n",
      "70 completed\n",
      "70 completed\n",
      "70 completed\n",
      "70 completed\n",
      "70 completed\n",
      "80 completed\n",
      "80 completed\n",
      "80 completed\n",
      "80 completed\n",
      "80 completed\n",
      "80 completed\n",
      "80 completed\n",
      "80 completed\n",
      "80 completed\n",
      "80 completed\n",
      "80 completed\n",
      "80 completed\n",
      "80 completed\n",
      "80 completed\n",
      "90 completed\n",
      "90 completed\n",
      "90 completed\n",
      "90 completed\n",
      "90 completed\n",
      "90 completed\n",
      "90 completed\n",
      "90 completed\n",
      "90 completed\n",
      "90 completed\n",
      "90 completed\n",
      "90 completed\n",
      "90 completed\n",
      "Finished processing data\n"
     ]
    },
    {
     "data": {
      "text/plain": "-10972.86"
     },
     "execution_count": 4,
     "metadata": {},
     "output_type": "execute_result"
    }
   ],
   "source": [
    "strat = ThreeProngAlt(threshold=.1, starting_fiat=500, market=sim)\n",
    "test = Backtesting(strat)\n",
    "\n",
    "test.process_timeframes()\n",
    "test.strategy.pnl()"
   ],
   "metadata": {
    "collapsed": false
   }
  },
  {
   "cell_type": "code",
   "execution_count": 11,
   "outputs": [
    {
     "ename": "ValueError",
     "evalue": "max() arg is an empty sequence",
     "output_type": "error",
     "traceback": [
      "\u001B[0;31m---------------------------------------------------------------------------\u001B[0m",
      "\u001B[0;31mValueError\u001B[0m                                Traceback (most recent call last)",
      "\u001B[0;32m<ipython-input-11-7fd1ef1575b5>\u001B[0m in \u001B[0;36m<module>\u001B[0;34m\u001B[0m\n\u001B[1;32m      1\u001B[0m \u001B[0mtest\u001B[0m\u001B[0;34m.\u001B[0m\u001B[0mstrategy\u001B[0m\u001B[0;34m.\u001B[0m\u001B[0morders\u001B[0m\u001B[0;34m\u001B[0m\u001B[0;34m\u001B[0m\u001B[0m\n\u001B[0;32m----> 2\u001B[0;31m \u001B[0mstrat\u001B[0m\u001B[0;34m.\u001B[0m\u001B[0munrealized_gain\u001B[0m\u001B[0;34m(\u001B[0m\u001B[0;34m)\u001B[0m\u001B[0;34m\u001B[0m\u001B[0;34m\u001B[0m\u001B[0m\n\u001B[0m",
      "\u001B[0;32m~/repos/investr/strategies/OscillatingStrategy.py\u001B[0m in \u001B[0;36munrealized_gain\u001B[0;34m(self)\u001B[0m\n\u001B[1;32m    100\u001B[0m         \"\"\"\n\u001B[1;32m    101\u001B[0m         \u001B[0munpaired\u001B[0m \u001B[0;34m=\u001B[0m \u001B[0mself\u001B[0m\u001B[0;34m.\u001B[0m\u001B[0mget_unpaired_orders\u001B[0m\u001B[0;34m(\u001B[0m\u001B[0;34m)\u001B[0m\u001B[0;34m\u001B[0m\u001B[0;34m\u001B[0m\u001B[0m\n\u001B[0;32m--> 102\u001B[0;31m         \u001B[0mhighest\u001B[0m \u001B[0;34m=\u001B[0m \u001B[0mmax\u001B[0m\u001B[0;34m(\u001B[0m\u001B[0munpaired\u001B[0m\u001B[0;34m[\u001B[0m\u001B[0;34m'rate'\u001B[0m\u001B[0;34m]\u001B[0m\u001B[0;34m)\u001B[0m\u001B[0;34m\u001B[0m\u001B[0;34m\u001B[0m\u001B[0m\n\u001B[0m\u001B[1;32m    103\u001B[0m         \u001B[0;32mreturn\u001B[0m \u001B[0munpaired\u001B[0m\u001B[0;34m[\u001B[0m\u001B[0;34m'amt'\u001B[0m\u001B[0;34m]\u001B[0m\u001B[0;34m.\u001B[0m\u001B[0msum\u001B[0m\u001B[0;34m(\u001B[0m\u001B[0;34m)\u001B[0m \u001B[0;34m*\u001B[0m \u001B[0mhighest\u001B[0m\u001B[0;34m\u001B[0m\u001B[0;34m\u001B[0m\u001B[0m\n\u001B[1;32m    104\u001B[0m \u001B[0;34m\u001B[0m\u001B[0m\n",
      "\u001B[0;31mValueError\u001B[0m: max() arg is an empty sequence"
     ]
    }
   ],
   "source": [
    "test.strategy.orders\n",
    "strat.unrealized_gain()"
   ],
   "metadata": {
    "collapsed": false
   }
  },
  {
   "cell_type": "markdown",
   "source": [
    "For some reason, strategy stops after 10/5. This is because indicators failed to detect a price drop...\n",
    "There should either be a timeout (where oscillation is reset after a certain timeperiod) *OR* another indicator should be added."
   ],
   "metadata": {
    "collapsed": false
   }
  },
  {
   "cell_type": "code",
   "execution_count": null,
   "outputs": [],
   "source": [],
   "metadata": {
    "collapsed": false
   }
  }
 ],
 "metadata": {
  "kernelspec": {
   "display_name": "Python 3",
   "language": "python",
   "name": "python3"
  },
  "language_info": {
   "codemirror_mode": {
    "name": "ipython",
    "version": 2
   },
   "file_extension": ".py",
   "mimetype": "text/x-python",
   "name": "python",
   "nbconvert_exporter": "python",
   "pygments_lexer": "ipython2",
   "version": "2.7.6"
  }
 },
 "nbformat": 4,
 "nbformat_minor": 0
}
