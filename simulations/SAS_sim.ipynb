{
 "cells": [
  {
   "cell_type": "markdown",
   "source": [
    "# StaticAlternatingStrategy Backtesting"
   ],
   "metadata": {
    "collapsed": false
   }
  },
  {
   "cell_type": "code",
   "execution_count": null,
   "metadata": {
    "collapsed": true
   },
   "outputs": [],
   "source": [
    "from Backtesting import Backtesting\n",
    "from markets.SimulatedMarket import SimulatedMarket\n",
    "from markets.GeminiAPI import GeminiAPI\n",
    "from strategies.StaticAlternatingStrategy import StaticAlternatingStrategy"
   ]
  },
  {
   "cell_type": "code",
   "execution_count": null,
   "outputs": [],
   "source": [
    "from yaml import safe_load\n",
    "\n",
    "with open('../gemini_api.yml', 'r') as f:\n",
    "    secrets = safe_load(f)\n",
    "\n",
    "mark = GeminiAPI(secrets['key'], secrets['secret'], '15m', root='../data')\n",
    "sim = SimulatedMarket(mark)"
   ],
   "metadata": {
    "collapsed": false
   }
  },
  {
   "cell_type": "code",
   "execution_count": null,
   "outputs": [],
   "source": [
    "sim.update()"
   ],
   "metadata": {
    "collapsed": false
   }
  },
  {
   "cell_type": "code",
   "execution_count": null,
   "outputs": [],
   "source": [
    "strat = StaticAlternatingStrategy(100, 100 / 20000, .2, sim)\n",
    "test = Backtesting(strat)\n",
    "\n",
    "test.process_timeframes()"
   ],
   "metadata": {
    "collapsed": false
   }
  },
  {
   "cell_type": "code",
   "execution_count": null,
   "outputs": [],
   "source": [
    "test.plot()"
   ],
   "metadata": {
    "collapsed": false
   }
  },
  {
   "cell_type": "code",
   "execution_count": null,
   "outputs": [],
   "source": [
    "print(test.strategy.orders)\n",
    "print(test.strategy.pnl())"
   ],
   "metadata": {
    "collapsed": false
   }
  },
  {
   "cell_type": "markdown",
   "source": [
    "For the timeframes this was first run (10/3 through 10/17/22), about $5 was made in two days! During this runtime, `SimulatedMarket` accepted all orders (ideal market), but still, those numbers were incredible. Despite positive results, the algorithm failed and was \"stuck\" when a sustained drop in price occurred after a `buy` trade.\n",
    "While a simple solution is setting a timeout where alternation is ignored after an extended period of inactivity, ultimately, analyzing signals will eliminate trading hangups. In addition, each buy and sale should be made at more efficient price points.\n",
    "\n",
    "That being said, let's see how `ThreeProng` works..."
   ],
   "metadata": {
    "collapsed": false
   }
  }
 ],
 "metadata": {
  "kernelspec": {
   "display_name": "Python 3",
   "language": "python",
   "name": "python3"
  },
  "language_info": {
   "codemirror_mode": {
    "name": "ipython",
    "version": 2
   },
   "file_extension": ".py",
   "mimetype": "text/x-python",
   "name": "python",
   "nbconvert_exporter": "python",
   "pygments_lexer": "ipython2",
   "version": "2.7.6"
  }
 },
 "nbformat": 4,
 "nbformat_minor": 0
}
